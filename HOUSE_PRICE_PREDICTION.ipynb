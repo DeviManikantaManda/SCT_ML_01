{
 "cells": [
  {
   "cell_type": "code",
   "execution_count": 4,
   "id": "f3e067b1",
   "metadata": {},
   "outputs": [
    {
     "name": "stdout",
     "output_type": "stream",
     "text": [
      "Mean Squared Error: 82717622128.49106\n",
      "R-squared: 0.41301278547440334\n",
      "Intercept: -17461.844258520985\n",
      "Coefficients: [   212.7532633  -13604.38933164 102433.30015047]\n",
      "Predicted prices for new data: [ 916230.94141888 1281639.09452468]\n"
     ]
    },
    {
     "name": "stderr",
     "output_type": "stream",
     "text": [
      "C:\\Users\\MSII\\anaconda3\\lib\\site-packages\\sklearn\\base.py:450: UserWarning: X does not have valid feature names, but LinearRegression was fitted with feature names\n",
      "  warnings.warn(\n"
     ]
    }
   ],
   "source": [
    "import numpy as np\n",
    "import pandas as pd\n",
    "from sklearn.model_selection import train_test_split\n",
    "from sklearn.linear_model import LinearRegression\n",
    "from sklearn.metrics import mean_squared_error, r2_score\n",
    "data = pd.read_csv(\"House Price India.csv\")\n",
    "df = pd.DataFrame(data)\n",
    "X = df[['Area of the house(excluding basement)', 'number of bedrooms', 'number of bathrooms']]  # Features\n",
    "y = df['Price']  \n",
    "X_train, X_test, y_train, y_test = train_test_split(X, y, test_size=0.2, random_state=42)\n",
    "model = LinearRegression()\n",
    "model.fit(X_train, y_train)\n",
    "y_pred = model.predict(X_test)\n",
    "mse = mean_squared_error(y_test, y_pred)\n",
    "r2 = r2_score(y_test, y_pred)\n",
    "print(\"Mean Squared Error:\", mse)\n",
    "print(\"R-squared:\", r2)\n",
    "print(\"Intercept:\", model.intercept_)\n",
    "print(\"Coefficients:\", model.coef_)\n",
    "new_data = np.array([[3200, 4, 3], [4500, 5, 4]])  # Example: [Area of the house','number of bedrooms','number of bathrooms']\n",
    "predicted_prices = model.predict(new_data)\n",
    "\n",
    "print(\"Predicted prices for new data:\", predicted_prices)\n"
   ]
  },
  {
   "cell_type": "code",
   "execution_count": null,
   "id": "56a16034",
   "metadata": {},
   "outputs": [],
   "source": []
  }
 ],
 "metadata": {
  "kernelspec": {
   "display_name": "Python 3 (ipykernel)",
   "language": "python",
   "name": "python3"
  },
  "language_info": {
   "codemirror_mode": {
    "name": "ipython",
    "version": 3
   },
   "file_extension": ".py",
   "mimetype": "text/x-python",
   "name": "python",
   "nbconvert_exporter": "python",
   "pygments_lexer": "ipython3",
   "version": "3.9.13"
  }
 },
 "nbformat": 4,
 "nbformat_minor": 5
}
